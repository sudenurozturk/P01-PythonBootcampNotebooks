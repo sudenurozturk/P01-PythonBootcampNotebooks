{
  "cells": [
    {
      "cell_type": "code",
      "execution_count": 1,
      "metadata": {
        "id": "qHcCWegoqTzH",
        "outputId": "f3d1832a-a008-467b-c7a8-b72a86f68201",
        "colab": {
          "base_uri": "https://localhost:8080/"
        }
      },
      "outputs": [
        {
          "output_type": "stream",
          "name": "stdout",
          "text": [
            "Writing myfile.txt\n"
          ]
        }
      ],
      "source": [
        "%%writefile myfile.txt\n",
        "test 1\n",
        "test 2\n",
        "test 3"
      ]
    },
    {
      "cell_type": "code",
      "execution_count": 7,
      "metadata": {
        "id": "w03x3wvZqTzM"
      },
      "outputs": [],
      "source": [
        "myFile = open(\"myfile.txt\") #aynı klasörde oldukları için direkt dosya adıyla dosya yolunu verebildik."
      ]
    },
    {
      "cell_type": "code",
      "execution_count": 8,
      "metadata": {
        "id": "HUJqNKJaqTzN",
        "outputId": "72f0073f-44ca-4c44-a9d5-a29e1896a230",
        "colab": {
          "base_uri": "https://localhost:8080/"
        }
      },
      "outputs": [
        {
          "output_type": "execute_result",
          "data": {
            "text/plain": [
              "_io.TextIOWrapper"
            ]
          },
          "metadata": {},
          "execution_count": 8
        }
      ],
      "source": [
        "type(myFile)"
      ]
    },
    {
      "cell_type": "code",
      "execution_count": 9,
      "metadata": {
        "id": "jbli5ZjPqTzO",
        "outputId": "6ab03286-f3f6-42b3-8f4e-b4a688bed105",
        "colab": {
          "base_uri": "https://localhost:8080/",
          "height": 36
        }
      },
      "outputs": [
        {
          "output_type": "execute_result",
          "data": {
            "text/plain": [
              "'test 1\\ntest 2\\ntest 3\\n'"
            ],
            "application/vnd.google.colaboratory.intrinsic+json": {
              "type": "string"
            }
          },
          "metadata": {},
          "execution_count": 9
        }
      ],
      "source": [
        "myFile.read()"
      ]
    },
    {
      "cell_type": "code",
      "execution_count": 10,
      "metadata": {
        "id": "_XiERqnBqTzP",
        "outputId": "b024cb62-0a3d-491a-8632-9818ed024b16",
        "colab": {
          "base_uri": "https://localhost:8080/",
          "height": 36
        }
      },
      "outputs": [
        {
          "output_type": "execute_result",
          "data": {
            "text/plain": [
              "''"
            ],
            "application/vnd.google.colaboratory.intrinsic+json": {
              "type": "string"
            }
          },
          "metadata": {},
          "execution_count": 10
        }
      ],
      "source": [
        "myFile.read() #cursor gezer gibi düşünelim. bir kez açıp okuyunca sonda kalmış gibi oluyor."
      ]
    },
    {
      "cell_type": "code",
      "execution_count": 11,
      "metadata": {
        "id": "aVGbRlEFqTzP",
        "outputId": "727fc73c-cc76-4213-a5c8-208a533fdddd",
        "colab": {
          "base_uri": "https://localhost:8080/"
        }
      },
      "outputs": [
        {
          "output_type": "execute_result",
          "data": {
            "text/plain": [
              "0"
            ]
          },
          "metadata": {},
          "execution_count": 11
        }
      ],
      "source": [
        "myFile.seek(0) #manuel olarak dosyanın başına dönüyoruz."
      ]
    },
    {
      "cell_type": "code",
      "execution_count": 12,
      "metadata": {
        "id": "IaNovdDEqTzQ",
        "outputId": "78e24850-dd27-45af-bf85-9cb2014f2201",
        "colab": {
          "base_uri": "https://localhost:8080/",
          "height": 36
        }
      },
      "outputs": [
        {
          "output_type": "execute_result",
          "data": {
            "text/plain": [
              "'test 1\\ntest 2\\ntest 3\\n'"
            ],
            "application/vnd.google.colaboratory.intrinsic+json": {
              "type": "string"
            }
          },
          "metadata": {},
          "execution_count": 12
        }
      ],
      "source": [
        "myFile.read()"
      ]
    },
    {
      "cell_type": "code",
      "execution_count": 13,
      "metadata": {
        "id": "E2rPk3JYqTzR",
        "outputId": "e43088d4-43f2-48fd-9203-754c2ee17edb",
        "colab": {
          "base_uri": "https://localhost:8080/",
          "height": 36
        }
      },
      "outputs": [
        {
          "output_type": "execute_result",
          "data": {
            "text/plain": [
              "''"
            ],
            "application/vnd.google.colaboratory.intrinsic+json": {
              "type": "string"
            }
          },
          "metadata": {},
          "execution_count": 13
        }
      ],
      "source": [
        "myFile.read()"
      ]
    },
    {
      "cell_type": "code",
      "execution_count": 14,
      "metadata": {
        "id": "SLw7dvyUqTzR"
      },
      "outputs": [],
      "source": [
        "myFile.close()"
      ]
    },
    {
      "cell_type": "code",
      "execution_count": 18,
      "metadata": {
        "id": "IbtD_xh0qTzT"
      },
      "outputs": [],
      "source": [
        "with open(\"myfile.txt\") as myFile: #withle açınca kapatmamız gerekmez\n",
        "    myContent = myFile.read() #dosyayı okumamızı bir değişkene atarız."
      ]
    },
    {
      "cell_type": "code",
      "execution_count": 19,
      "metadata": {
        "id": "r4rzjGpUqTzT",
        "outputId": "877c628f-c43c-428b-b63e-7d3ec2efc6e0",
        "colab": {
          "base_uri": "https://localhost:8080/",
          "height": 36
        }
      },
      "outputs": [
        {
          "output_type": "execute_result",
          "data": {
            "text/plain": [
              "'test 1\\ntest 2\\ntest 3\\n'"
            ],
            "application/vnd.google.colaboratory.intrinsic+json": {
              "type": "string"
            }
          },
          "metadata": {},
          "execution_count": 19
        }
      ],
      "source": [
        "myContent #bir değişkene atadığımızdan hep aynıdır cursor sona geldi vs gibi bir durum düşünmeyiz."
      ]
    },
    {
      "cell_type": "code",
      "execution_count": 20,
      "metadata": {
        "id": "j-9sbQRBqTzT",
        "outputId": "5e20f012-0277-47af-e1dd-3eb4059ee3d3",
        "colab": {
          "base_uri": "https://localhost:8080/",
          "height": 36
        }
      },
      "outputs": [
        {
          "output_type": "execute_result",
          "data": {
            "text/plain": [
              "'test 1\\ntest 2\\ntest 3\\n'"
            ],
            "application/vnd.google.colaboratory.intrinsic+json": {
              "type": "string"
            }
          },
          "metadata": {},
          "execution_count": 20
        }
      ],
      "source": [
        "myContent"
      ]
    },
    {
      "cell_type": "code",
      "execution_count": 35,
      "metadata": {
        "id": "6ls2xm3AqTzU"
      },
      "outputs": [],
      "source": [
        "with open(\"myfile.txt\",mode=\"w\") as myNewFile: #write modu dosya varsa sıfırlar öyle yazar, yoksa dosya oluşturur.\n",
        "    myNewFile.write(\"test 4\")"
      ]
    },
    {
      "cell_type": "code",
      "execution_count": 22,
      "metadata": {
        "id": "dWAfMcr9qTzU",
        "outputId": "76695c62-234f-4f46-be89-44e80fe3a14c",
        "colab": {
          "base_uri": "https://localhost:8080/"
        }
      },
      "outputs": [
        {
          "output_type": "execute_result",
          "data": {
            "text/plain": [
              "<_io.TextIOWrapper name='myfile.txt' mode='w' encoding='utf-8'>"
            ]
          },
          "metadata": {},
          "execution_count": 22
        }
      ],
      "source": [
        "myNewFile"
      ]
    },
    {
      "cell_type": "code",
      "execution_count": 23,
      "metadata": {
        "id": "KdwC3b8HqTzU"
      },
      "outputs": [],
      "source": [
        "with open(\"myfile.txt\",mode=\"r\") as myFile2: #default olarak read. dosya varsa okur yoksa hata verir.\n",
        "    myContent = myFile2.read()"
      ]
    },
    {
      "cell_type": "code",
      "execution_count": 25,
      "metadata": {
        "id": "szezyTYAqTzU",
        "outputId": "c4b3e92c-cbb7-453e-b953-dc3e8113cc66",
        "colab": {
          "base_uri": "https://localhost:8080/",
          "height": 36
        }
      },
      "outputs": [
        {
          "output_type": "execute_result",
          "data": {
            "text/plain": [
              "'test 4'"
            ],
            "application/vnd.google.colaboratory.intrinsic+json": {
              "type": "string"
            }
          },
          "metadata": {},
          "execution_count": 25
        }
      ],
      "source": [
        "myContent #w moduyla açınca içeriği sıfırlar, sadece yeni yazdığımız olur"
      ]
    },
    {
      "cell_type": "markdown",
      "metadata": {
        "id": "dMQBhiMsqTzV"
      },
      "source": [
        "#  w -> write, r->read, a->append"
      ]
    },
    {
      "cell_type": "code",
      "execution_count": 36,
      "metadata": {
        "id": "LRYbn04tqTzW"
      },
      "outputs": [],
      "source": [
        "with open(\"myfile.txt\",mode=\"a\") as myNewFile3: #a ile açınca write yaptığımızda sıfırlanmaz sonuna eklenir. dosya yoksa açar.\n",
        "    myNewFile3.write(\"test 5\")"
      ]
    },
    {
      "cell_type": "code",
      "execution_count": 30,
      "metadata": {
        "id": "iG15JK3CqTzW"
      },
      "outputs": [],
      "source": [
        "with open(\"myfile.txt\",mode=\"r\") as myNewFile4:\n",
        "    myContent = myNewFile4.read()"
      ]
    },
    {
      "cell_type": "code",
      "execution_count": 31,
      "metadata": {
        "id": "Obgn3uesqTzW",
        "outputId": "b06d4e72-601e-4e35-c8ae-f3ededa04207",
        "colab": {
          "base_uri": "https://localhost:8080/",
          "height": 36
        }
      },
      "outputs": [
        {
          "output_type": "execute_result",
          "data": {
            "text/plain": [
              "'test 4test 5test 5'"
            ],
            "application/vnd.google.colaboratory.intrinsic+json": {
              "type": "string"
            }
          },
          "metadata": {},
          "execution_count": 31
        }
      ],
      "source": [
        "myContent"
      ]
    },
    {
      "cell_type": "code",
      "source": [
        "#ek not, x modu: \"x\" → Exclusive Create\n",
        "#Dosya yoksa oluşturur.\n",
        "#Dosya zaten varsa hata verir (FileExistsError).\n",
        "#Özel durumlarda, dosyanın üzerine yazılmasını önlemek için kullanılır."
      ],
      "metadata": {
        "id": "O2rO5KASeG-H"
      },
      "execution_count": 37,
      "outputs": []
    },
    {
      "cell_type": "code",
      "source": [],
      "metadata": {
        "id": "LBqYdBTKe40i"
      },
      "execution_count": null,
      "outputs": []
    }
  ],
  "metadata": {
    "kernelspec": {
      "display_name": "Python 3",
      "language": "python",
      "name": "python3"
    },
    "language_info": {
      "codemirror_mode": {
        "name": "ipython",
        "version": 3
      },
      "file_extension": ".py",
      "mimetype": "text/x-python",
      "name": "python",
      "nbconvert_exporter": "python",
      "pygments_lexer": "ipython3",
      "version": "3.8.5"
    },
    "colab": {
      "provenance": []
    }
  },
  "nbformat": 4,
  "nbformat_minor": 0
}