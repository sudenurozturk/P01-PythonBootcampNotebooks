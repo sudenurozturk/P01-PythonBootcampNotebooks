{
  "cells": [
    {
      "cell_type": "markdown",
      "source": [
        "**Type Annotations** ile değişken ya da sabitin hangi tipte değer tutabileceğini tanımlamış oluyoruz."
      ],
      "metadata": {
        "id": "iunzXGzfudyJ"
      },
      "id": "iunzXGzfudyJ"
    },
    {
      "cell_type": "code",
      "execution_count": 1,
      "id": "69d813c2",
      "metadata": {
        "id": "69d813c2"
      },
      "outputs": [],
      "source": [
        "name: str = \"Atıl\"\n",
        "age: int = 30\n",
        "is_student: bool = False"
      ]
    },
    {
      "cell_type": "code",
      "execution_count": 7,
      "id": "9957cc4a",
      "metadata": {
        "id": "9957cc4a"
      },
      "outputs": [],
      "source": [
        "def add_numbers(a: int, b: int) -> int: #aslında illa int olmalı demek değil, istersek str de gireriz. dökümantasyon için yapılan bir şey\n",
        "    return a + b"
      ]
    },
    {
      "cell_type": "code",
      "execution_count": 3,
      "id": "384a1edc",
      "metadata": {
        "id": "384a1edc",
        "outputId": "b4ebda9e-1091-4aad-e8e9-3ed9613b2b74",
        "colab": {
          "base_uri": "https://localhost:8080/"
        }
      },
      "outputs": [
        {
          "output_type": "execute_result",
          "data": {
            "text/plain": [
              "50"
            ]
          },
          "metadata": {},
          "execution_count": 3
        }
      ],
      "source": [
        "add_numbers(20,30)"
      ]
    },
    {
      "cell_type": "code",
      "execution_count": 4,
      "id": "81642618",
      "metadata": {
        "id": "81642618"
      },
      "outputs": [],
      "source": [
        "#python 3.10 and above\n",
        "def process_value(value: int | str) -> str:\n",
        "    if isinstance(value, int): #değer int mi bunu anlamak için özel bir fonks.\n",
        "        return f\"Processed integer: {value}\"\n",
        "    else:\n",
        "        return f\"Processed string: {value}\""
      ]
    },
    {
      "cell_type": "code",
      "execution_count": 5,
      "id": "955c09fe",
      "metadata": {
        "id": "955c09fe",
        "outputId": "eae214d1-b839-4a64-912c-26d0807ad56c",
        "colab": {
          "base_uri": "https://localhost:8080/",
          "height": 36
        }
      },
      "outputs": [
        {
          "output_type": "execute_result",
          "data": {
            "text/plain": [
              "'Processed integer: 10'"
            ],
            "application/vnd.google.colaboratory.intrinsic+json": {
              "type": "string"
            }
          },
          "metadata": {},
          "execution_count": 5
        }
      ],
      "source": [
        "process_value(10)"
      ]
    },
    {
      "cell_type": "code",
      "execution_count": 6,
      "id": "708851f0",
      "metadata": {
        "id": "708851f0",
        "outputId": "523cb09c-1284-47b4-aef5-5e141563d957",
        "colab": {
          "base_uri": "https://localhost:8080/",
          "height": 36
        }
      },
      "outputs": [
        {
          "output_type": "execute_result",
          "data": {
            "text/plain": [
              "'Processed string: 10'"
            ],
            "application/vnd.google.colaboratory.intrinsic+json": {
              "type": "string"
            }
          },
          "metadata": {},
          "execution_count": 6
        }
      ],
      "source": [
        "process_value(\"10\")"
      ]
    },
    {
      "cell_type": "code",
      "execution_count": 8,
      "id": "7c45034d",
      "metadata": {
        "id": "7c45034d"
      },
      "outputs": [],
      "source": [
        "#python 3.9 and above\n",
        "from typing import List\n",
        "\n",
        "def sum_list(numbers: List[int]) -> int:\n",
        "    return sum(numbers)\n",
        "\n",
        "numbers = [1, 2, 3, 4]\n",
        "total = sum_list(numbers)"
      ]
    },
    {
      "cell_type": "code",
      "execution_count": 9,
      "id": "881b8ecf",
      "metadata": {
        "id": "881b8ecf",
        "outputId": "fe84a01c-6b81-47a2-9eca-246b5212f217",
        "colab": {
          "base_uri": "https://localhost:8080/"
        }
      },
      "outputs": [
        {
          "output_type": "execute_result",
          "data": {
            "text/plain": [
              "10"
            ]
          },
          "metadata": {},
          "execution_count": 9
        }
      ],
      "source": [
        "total"
      ]
    },
    {
      "cell_type": "code",
      "execution_count": null,
      "id": "fe59c302",
      "metadata": {
        "id": "fe59c302"
      },
      "outputs": [],
      "source": []
    }
  ],
  "metadata": {
    "kernelspec": {
      "display_name": "Python 3 (ipykernel)",
      "language": "python",
      "name": "python3"
    },
    "language_info": {
      "codemirror_mode": {
        "name": "ipython",
        "version": 3
      },
      "file_extension": ".py",
      "mimetype": "text/x-python",
      "name": "python",
      "nbconvert_exporter": "python",
      "pygments_lexer": "ipython3",
      "version": "3.10.9"
    },
    "colab": {
      "provenance": []
    }
  },
  "nbformat": 4,
  "nbformat_minor": 5
}