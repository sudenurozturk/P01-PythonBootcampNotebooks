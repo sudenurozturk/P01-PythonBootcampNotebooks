{
  "cells": [
    {
      "cell_type": "code",
      "execution_count": 1,
      "metadata": {
        "id": "cEcD32w4VsHK",
        "outputId": "3d4a1191-53a7-4ff0-af64-b40464714aeb",
        "colab": {
          "base_uri": "https://localhost:8080/"
        }
      },
      "outputs": [
        {
          "name": "stdout",
          "output_type": "stream",
          "text": [
            "enter age: 35\n"
          ]
        }
      ],
      "source": [
        "age = input(\"enter age: \")"
      ]
    },
    {
      "cell_type": "code",
      "execution_count": 2,
      "metadata": {
        "id": "ntAmG-t3VsHM",
        "outputId": "0b2b1ebf-9307-41f8-9c3a-91effc9c1f35",
        "colab": {
          "base_uri": "https://localhost:8080/",
          "height": 36
        }
      },
      "outputs": [
        {
          "output_type": "execute_result",
          "data": {
            "text/plain": [
              "'35'"
            ],
            "application/vnd.google.colaboratory.intrinsic+json": {
              "type": "string"
            }
          },
          "metadata": {},
          "execution_count": 2
        }
      ],
      "source": [
        "age"
      ]
    },
    {
      "cell_type": "code",
      "execution_count": 3,
      "metadata": {
        "id": "RWTia5ntVsHN",
        "outputId": "6686bfbe-5584-4b1a-d3c7-e4e7383635ae",
        "colab": {
          "base_uri": "https://localhost:8080/"
        }
      },
      "outputs": [
        {
          "output_type": "execute_result",
          "data": {
            "text/plain": [
              "70"
            ]
          },
          "metadata": {},
          "execution_count": 3
        }
      ],
      "source": [
        "int(age) * 2"
      ]
    },
    {
      "cell_type": "code",
      "execution_count": 4,
      "metadata": {
        "id": "quFC_InZVsHN"
      },
      "outputs": [],
      "source": [
        "# try - except"
      ]
    },
    {
      "cell_type": "code",
      "execution_count": 8,
      "metadata": {
        "id": "85vdK0XUVsHN",
        "outputId": "e5f21129-344b-4113-8135-c3b565968ece",
        "colab": {
          "base_uri": "https://localhost:8080/"
        }
      },
      "outputs": [
        {
          "output_type": "stream",
          "name": "stdout",
          "text": [
            "enter age: 5\n",
            "10\n",
            "else executed\n",
            "finally\n"
          ]
        }
      ],
      "source": [
        "while True:\n",
        "    try: #try içine hata alabilecek kodu yazıyoruz\n",
        "        myAge = int(input(\"enter age: \"))\n",
        "        print(myAge * 2)\n",
        "        #break\n",
        "    except:\n",
        "        print(\"enter your age!!!\")\n",
        "    else:\n",
        "        print(\"else executed\")\n",
        "        break #break try içinde de olur gayet. else ve finally'e pek gerek yok aslında.\n",
        "    finally: #hep çalışır. her döngünün sonunda yazar yani.\n",
        "        print(\"finally\")"
      ]
    },
    {
      "cell_type": "code",
      "execution_count": 7,
      "metadata": {
        "id": "CXA9Y6WXVsHN",
        "outputId": "4ddd11a0-b171-4ebd-c9b7-118f61c2df4f",
        "colab": {
          "base_uri": "https://localhost:8080/"
        }
      },
      "outputs": [
        {
          "output_type": "stream",
          "name": "stdout",
          "text": [
            "Yaşınızı girin:a\n",
            "Yaş!\n"
          ]
        }
      ],
      "source": [
        "try:\n",
        "  myAge = int(input(\"Yaşınızı girin:\"))\n",
        "  print(myAge*2)\n",
        "except ValueError:\n",
        "  print(\"Yaş!\")"
      ]
    },
    {
      "cell_type": "code",
      "source": [],
      "metadata": {
        "id": "JDFsS1WTWZfB"
      },
      "execution_count": null,
      "outputs": []
    }
  ],
  "metadata": {
    "kernelspec": {
      "display_name": "Python 3",
      "language": "python",
      "name": "python3"
    },
    "language_info": {
      "codemirror_mode": {
        "name": "ipython",
        "version": 3
      },
      "file_extension": ".py",
      "mimetype": "text/x-python",
      "name": "python",
      "nbconvert_exporter": "python",
      "pygments_lexer": "ipython3",
      "version": "3.8.5"
    },
    "colab": {
      "provenance": []
    }
  },
  "nbformat": 4,
  "nbformat_minor": 0
}