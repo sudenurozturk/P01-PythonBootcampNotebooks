{
  "cells": [
    {
      "cell_type": "markdown",
      "metadata": {
        "id": "q-5ELenzP93N"
      },
      "source": [
        "# inheritance"
      ]
    },
    {
      "cell_type": "code",
      "execution_count": 1,
      "metadata": {
        "id": "-BJf6XB_P93O"
      },
      "outputs": [],
      "source": [
        "class Musician():\n",
        "\n",
        "    def __init__(self,name):\n",
        "        self.name = name\n",
        "        print(\"musician class\")\n",
        "\n",
        "    def test1(self):\n",
        "        print(\"test1\")\n",
        "\n",
        "    def test2(self):\n",
        "        print(\"test2\")"
      ]
    },
    {
      "cell_type": "code",
      "execution_count": 2,
      "metadata": {
        "id": "O1vXwp6kP93P",
        "outputId": "5c327116-34e7-48b2-9c5f-617c9232aa6e",
        "colab": {
          "base_uri": "https://localhost:8080/"
        }
      },
      "outputs": [
        {
          "output_type": "stream",
          "name": "stdout",
          "text": [
            "musician class\n"
          ]
        }
      ],
      "source": [
        "atil = Musician(\"Atil\")"
      ]
    },
    {
      "cell_type": "code",
      "execution_count": 3,
      "metadata": {
        "id": "dMurjjBtP93P",
        "outputId": "7b2b882c-b2e1-4e91-acbc-6bb67e07f95a",
        "colab": {
          "base_uri": "https://localhost:8080/",
          "height": 36
        }
      },
      "outputs": [
        {
          "output_type": "execute_result",
          "data": {
            "text/plain": [
              "'Atil'"
            ],
            "application/vnd.google.colaboratory.intrinsic+json": {
              "type": "string"
            }
          },
          "metadata": {},
          "execution_count": 3
        }
      ],
      "source": [
        "atil.name"
      ]
    },
    {
      "cell_type": "code",
      "execution_count": 4,
      "metadata": {
        "id": "Ob247_pzP93P",
        "outputId": "e7bc9f0a-7911-4044-b7f3-e057d2044fed",
        "colab": {
          "base_uri": "https://localhost:8080/"
        }
      },
      "outputs": [
        {
          "output_type": "stream",
          "name": "stdout",
          "text": [
            "test1\n"
          ]
        }
      ],
      "source": [
        "atil.test1()"
      ]
    },
    {
      "cell_type": "code",
      "execution_count": 5,
      "metadata": {
        "id": "tBtckSZGP93Q",
        "outputId": "2902bfee-d298-41d8-82e6-2641e2a17a3d",
        "colab": {
          "base_uri": "https://localhost:8080/"
        }
      },
      "outputs": [
        {
          "output_type": "stream",
          "name": "stdout",
          "text": [
            "test2\n"
          ]
        }
      ],
      "source": [
        "atil.test2()"
      ]
    },
    {
      "cell_type": "code",
      "execution_count": 7,
      "metadata": {
        "id": "OdZZf6GWP93Q"
      },
      "outputs": [],
      "source": [
        "class MusicianPlus(Musician):\n",
        "\n",
        "    def __init__(self,name): #kalıtım aldığı sınıfla aynı vermeliyiz. self ve name.\n",
        "        Musician.__init__(self,name)\n",
        "        print(\"musician plus\")\n",
        "\n",
        "    def test3(self):\n",
        "        print(\"test3\")\n",
        "\n",
        "    #override: kalıtım aldığında test1 vardı, onu değiştirdi. override oldu.\n",
        "    def test1(self):\n",
        "        print(\"test1 test1 test1\")"
      ]
    },
    {
      "cell_type": "code",
      "execution_count": 8,
      "metadata": {
        "id": "Zog3QwHtP93Q",
        "outputId": "2c1aac38-231b-4422-9804-e479c3593f96",
        "colab": {
          "base_uri": "https://localhost:8080/"
        }
      },
      "outputs": [
        {
          "output_type": "stream",
          "name": "stdout",
          "text": [
            "musician class\n",
            "musician plus\n"
          ]
        }
      ],
      "source": [
        "atlas = MusicianPlus(\"Atlas\")"
      ]
    },
    {
      "cell_type": "code",
      "execution_count": 9,
      "metadata": {
        "id": "KHNtdjSfP93Q",
        "outputId": "c1290962-2977-472d-b674-21f1d8535911",
        "colab": {
          "base_uri": "https://localhost:8080/"
        }
      },
      "outputs": [
        {
          "output_type": "stream",
          "name": "stdout",
          "text": [
            "test1 test1 test1\n"
          ]
        }
      ],
      "source": [
        "atlas.test1()"
      ]
    },
    {
      "cell_type": "code",
      "execution_count": 10,
      "metadata": {
        "id": "QwD_JP-HP93Q",
        "outputId": "651a0ce6-2e8a-45d1-f811-458cfc343c8a",
        "colab": {
          "base_uri": "https://localhost:8080/"
        }
      },
      "outputs": [
        {
          "output_type": "stream",
          "name": "stdout",
          "text": [
            "test2\n"
          ]
        }
      ],
      "source": [
        "atlas.test2()"
      ]
    },
    {
      "cell_type": "code",
      "execution_count": 11,
      "metadata": {
        "id": "zCi9WMEVP93R"
      },
      "outputs": [],
      "source": [
        "atlas.name = \"Atlas Samancioglu\""
      ]
    },
    {
      "cell_type": "code",
      "execution_count": 12,
      "metadata": {
        "id": "L1a-4ZLmP93R",
        "outputId": "19f3c5f1-2176-4faa-8c92-037471290d43",
        "colab": {
          "base_uri": "https://localhost:8080/",
          "height": 103
        }
      },
      "outputs": [
        {
          "output_type": "execute_result",
          "data": {
            "text/plain": [
              "__main__.MusicianPlus"
            ],
            "text/html": [
              "<div style=\"max-width:800px; border: 1px solid var(--colab-border-color);\"><style>\n",
              "      pre.function-repr-contents {\n",
              "        overflow-x: auto;\n",
              "        padding: 8px 12px;\n",
              "        max-height: 500px;\n",
              "      }\n",
              "\n",
              "      pre.function-repr-contents.function-repr-contents-collapsed {\n",
              "        cursor: pointer;\n",
              "        max-height: 100px;\n",
              "      }\n",
              "    </style>\n",
              "    <pre style=\"white-space: initial; background:\n",
              "         var(--colab-secondary-surface-color); padding: 8px 12px;\n",
              "         border-bottom: 1px solid var(--colab-border-color);\"><b>MusicianPlus</b><br/>def __init__(name)</pre><pre class=\"function-repr-contents function-repr-contents-collapsed\" style=\"\"><a class=\"filepath\" style=\"display:none\" href=\"#\"></a>&lt;no docstring&gt;</pre></div>"
            ]
          },
          "metadata": {},
          "execution_count": 12
        }
      ],
      "source": [
        "type(atlas)"
      ]
    },
    {
      "cell_type": "code",
      "execution_count": 13,
      "metadata": {
        "id": "f9Ae5B0JP93R",
        "outputId": "a190a8bb-be69-49f5-d4be-6263a4292ff6",
        "colab": {
          "base_uri": "https://localhost:8080/"
        }
      },
      "outputs": [
        {
          "output_type": "stream",
          "name": "stdout",
          "text": [
            "test3\n"
          ]
        }
      ],
      "source": [
        "atlas.test3()"
      ]
    },
    {
      "cell_type": "code",
      "execution_count": 14,
      "metadata": {
        "id": "nghUFR0qP93R",
        "outputId": "1d7c8698-9577-4837-8bc3-bff0422d3dde",
        "colab": {
          "base_uri": "https://localhost:8080/",
          "height": 103
        }
      },
      "outputs": [
        {
          "output_type": "execute_result",
          "data": {
            "text/plain": [
              "__main__.Musician"
            ],
            "text/html": [
              "<div style=\"max-width:800px; border: 1px solid var(--colab-border-color);\"><style>\n",
              "      pre.function-repr-contents {\n",
              "        overflow-x: auto;\n",
              "        padding: 8px 12px;\n",
              "        max-height: 500px;\n",
              "      }\n",
              "\n",
              "      pre.function-repr-contents.function-repr-contents-collapsed {\n",
              "        cursor: pointer;\n",
              "        max-height: 100px;\n",
              "      }\n",
              "    </style>\n",
              "    <pre style=\"white-space: initial; background:\n",
              "         var(--colab-secondary-surface-color); padding: 8px 12px;\n",
              "         border-bottom: 1px solid var(--colab-border-color);\"><b>Musician</b><br/>def __init__(name)</pre><pre class=\"function-repr-contents function-repr-contents-collapsed\" style=\"\"><a class=\"filepath\" style=\"display:none\" href=\"#\"></a>&lt;no docstring&gt;</pre></div>"
            ]
          },
          "metadata": {},
          "execution_count": 14
        }
      ],
      "source": [
        "type(atil)"
      ]
    },
    {
      "cell_type": "code",
      "execution_count": 15,
      "metadata": {
        "id": "jzqveRoOP93R",
        "outputId": "8d470a82-fe1d-4823-b6bf-af13f84ae1fd",
        "colab": {
          "base_uri": "https://localhost:8080/"
        }
      },
      "outputs": [
        {
          "output_type": "stream",
          "name": "stdout",
          "text": [
            "test1\n"
          ]
        }
      ],
      "source": [
        "atil.test1()"
      ]
    },
    {
      "cell_type": "markdown",
      "metadata": {
        "id": "anxw1lmDP93R"
      },
      "source": [
        "# polymorphism : aynı isimle farklı işlev yapmak gibi"
      ]
    },
    {
      "cell_type": "code",
      "execution_count": 21,
      "metadata": {
        "id": "-c4C1_umP93R"
      },
      "outputs": [],
      "source": [
        "#ikisinde de info var.\n",
        "class Banana():\n",
        "\n",
        "    def __init__(self,name):\n",
        "        self.name = name\n",
        "\n",
        "    def info(self):\n",
        "        return f\"100 calories {self.name}\"\n",
        "\n",
        "class Apple():\n",
        "\n",
        "    def __init__(self,name):\n",
        "        self.name = name\n",
        "\n",
        "    def info(self):\n",
        "        return f\"150 calories {self.name}\""
      ]
    },
    {
      "cell_type": "code",
      "execution_count": 22,
      "metadata": {
        "id": "blLcRlg2P93R"
      },
      "outputs": [],
      "source": [
        "banana = Banana(\"banana\")"
      ]
    },
    {
      "cell_type": "code",
      "execution_count": 23,
      "metadata": {
        "id": "jGjq8QtAP93R"
      },
      "outputs": [],
      "source": [
        "apple = Apple(\"apple\")"
      ]
    },
    {
      "cell_type": "code",
      "execution_count": 24,
      "metadata": {
        "id": "Q0T_ttaUP93R",
        "outputId": "68e56d8b-e454-430a-faf7-37804a7e5856",
        "colab": {
          "base_uri": "https://localhost:8080/",
          "height": 36
        }
      },
      "outputs": [
        {
          "output_type": "execute_result",
          "data": {
            "text/plain": [
              "'100 calories banana'"
            ],
            "application/vnd.google.colaboratory.intrinsic+json": {
              "type": "string"
            }
          },
          "metadata": {},
          "execution_count": 24
        }
      ],
      "source": [
        "banana.info()"
      ]
    },
    {
      "cell_type": "code",
      "execution_count": 25,
      "metadata": {
        "id": "KeyczTveP93R",
        "outputId": "f9ccd766-6a63-4bb9-a81d-4100ecd82502",
        "colab": {
          "base_uri": "https://localhost:8080/",
          "height": 36
        }
      },
      "outputs": [
        {
          "output_type": "execute_result",
          "data": {
            "text/plain": [
              "'150 calories apple'"
            ],
            "application/vnd.google.colaboratory.intrinsic+json": {
              "type": "string"
            }
          },
          "metadata": {},
          "execution_count": 25
        }
      ],
      "source": [
        "apple.info()"
      ]
    },
    {
      "cell_type": "code",
      "execution_count": 26,
      "metadata": {
        "id": "H-YXaL2_P93S"
      },
      "outputs": [],
      "source": [
        "fruitList = [banana,apple]"
      ]
    },
    {
      "cell_type": "code",
      "execution_count": 27,
      "metadata": {
        "id": "zQ5K1FbNP93S",
        "outputId": "d404b1b5-6fba-48ed-c5e0-d683f68cd1c4",
        "colab": {
          "base_uri": "https://localhost:8080/"
        }
      },
      "outputs": [
        {
          "output_type": "stream",
          "name": "stdout",
          "text": [
            "100 calories banana\n",
            "150 calories apple\n"
          ]
        }
      ],
      "source": [
        "for fruit in fruitList:\n",
        "    print(fruit.info())"
      ]
    },
    {
      "cell_type": "markdown",
      "metadata": {
        "id": "cbZyk1P_P93S"
      },
      "source": [
        "# encapsulation: hapsetmek"
      ]
    },
    {
      "cell_type": "code",
      "execution_count": 37,
      "metadata": {
        "id": "fsrFZQPbP93S"
      },
      "outputs": [],
      "source": [
        "class Phone():\n",
        "\n",
        "    def __init__(self,name,price):\n",
        "        self.name = name\n",
        "        self.__price = price #__ koyunca sadece bu sınıf erişebilir. diğer yerlerde bunu değiştiremeyiz.\n",
        "\n",
        "    def info(self):\n",
        "        print(f\"{self.name} price is: {self.__price}\")\n",
        "\n",
        "    def changePrice(self,price):\n",
        "        self.__price = price #ama aynı sınıf içerisinde değişebilir bu yüzden burda böyle bi fonksiyon yazarsak değiştirebiliriz."
      ]
    },
    {
      "cell_type": "code",
      "execution_count": 38,
      "metadata": {
        "id": "OliNfpboP93S"
      },
      "outputs": [],
      "source": [
        "iphone = Phone(\"iPhone 14\",500)"
      ]
    },
    {
      "cell_type": "code",
      "execution_count": 39,
      "metadata": {
        "id": "naEJrVRYP93S",
        "outputId": "0e113371-f629-4992-a465-a0a227d4565c",
        "colab": {
          "base_uri": "https://localhost:8080/"
        }
      },
      "outputs": [
        {
          "output_type": "stream",
          "name": "stdout",
          "text": [
            "iPhone 14 price is: 500\n"
          ]
        }
      ],
      "source": [
        "iphone.info()"
      ]
    },
    {
      "cell_type": "code",
      "execution_count": 40,
      "metadata": {
        "id": "Pupzq4FiP93S"
      },
      "outputs": [],
      "source": [
        "iphone.__price = 400"
      ]
    },
    {
      "cell_type": "code",
      "execution_count": 41,
      "metadata": {
        "id": "n4t9BZBrP93S",
        "outputId": "969761d3-aed5-4202-e3ca-badeee329f36",
        "colab": {
          "base_uri": "https://localhost:8080/"
        }
      },
      "outputs": [
        {
          "output_type": "stream",
          "name": "stdout",
          "text": [
            "iPhone 14 price is: 500\n"
          ]
        }
      ],
      "source": [
        "iphone.info()"
      ]
    },
    {
      "cell_type": "code",
      "execution_count": 42,
      "metadata": {
        "id": "lAGd6MVGP93S"
      },
      "outputs": [],
      "source": [
        "iphone.changePrice(300)"
      ]
    },
    {
      "cell_type": "code",
      "execution_count": 43,
      "metadata": {
        "id": "Rm_qOVxYP93S",
        "outputId": "a67a5fa2-1f3c-422b-b2fc-3e342e4303eb",
        "colab": {
          "base_uri": "https://localhost:8080/"
        }
      },
      "outputs": [
        {
          "output_type": "stream",
          "name": "stdout",
          "text": [
            "iPhone 14 price is: 300\n"
          ]
        }
      ],
      "source": [
        "iphone.info()"
      ]
    },
    {
      "cell_type": "markdown",
      "metadata": {
        "id": "pe9ZE_E4P93S"
      },
      "source": [
        "# abstraction: soyutlamak"
      ]
    },
    {
      "cell_type": "code",
      "execution_count": 44,
      "metadata": {
        "id": "wTqC8ZBQP93S"
      },
      "outputs": [],
      "source": [
        "from abc import ABC, abstractmethod"
      ]
    },
    {
      "cell_type": "code",
      "execution_count": 45,
      "metadata": {
        "id": "QpdrR1WYP93S"
      },
      "outputs": [],
      "source": [
        "class Car(ABC):\n",
        "\n",
        "    @abstractmethod\n",
        "    def maxSpeed(self):\n",
        "        pass"
      ]
    },
    {
      "cell_type": "code",
      "execution_count": 54,
      "metadata": {
        "id": "Bnrj5-AHP93S"
      },
      "outputs": [],
      "source": [
        "#myCar = Car() abstract sınıftan direkt nesne oluşturulamaz. abstract sınıfta olan özellik hepsinde olmalı."
      ]
    },
    {
      "cell_type": "code",
      "execution_count": 48,
      "metadata": {
        "id": "wqKOnLdqP93S"
      },
      "outputs": [],
      "source": [
        "class Tesla(Car):\n",
        "\n",
        "    def maxSpeed(self):\n",
        "        print(\"200km\")"
      ]
    },
    {
      "cell_type": "code",
      "execution_count": 49,
      "metadata": {
        "id": "nFgGrd1JP93S"
      },
      "outputs": [],
      "source": [
        "tesla = Tesla()"
      ]
    },
    {
      "cell_type": "code",
      "execution_count": 50,
      "metadata": {
        "id": "Bc5G3-rbP93T",
        "outputId": "867e7be0-4ee9-4940-e934-e08485cb0448",
        "colab": {
          "base_uri": "https://localhost:8080/"
        }
      },
      "outputs": [
        {
          "output_type": "stream",
          "name": "stdout",
          "text": [
            "200km\n"
          ]
        }
      ],
      "source": [
        "tesla.maxSpeed()"
      ]
    },
    {
      "cell_type": "code",
      "execution_count": 51,
      "metadata": {
        "id": "B2D5KoIuP93T"
      },
      "outputs": [],
      "source": [
        "class Mercedes(Car):\n",
        "\n",
        "    def maxSpeed(self):\n",
        "        print(\"250km\")"
      ]
    },
    {
      "cell_type": "code",
      "execution_count": 52,
      "metadata": {
        "id": "eDDKaPMPP93c"
      },
      "outputs": [],
      "source": [
        "mercedes = Mercedes()"
      ]
    },
    {
      "cell_type": "code",
      "execution_count": 53,
      "metadata": {
        "id": "Vne-8xPTP93c",
        "outputId": "68531a99-d004-4407-9580-20ec024541ae",
        "colab": {
          "base_uri": "https://localhost:8080/"
        }
      },
      "outputs": [
        {
          "output_type": "stream",
          "name": "stdout",
          "text": [
            "250km\n"
          ]
        }
      ],
      "source": [
        "mercedes.maxSpeed()"
      ]
    },
    {
      "cell_type": "code",
      "execution_count": 57,
      "metadata": {
        "id": "m0_Q3yRPP93d"
      },
      "outputs": [],
      "source": [
        "class Fruit():\n",
        "\n",
        "    def __init__(self,name,calories):\n",
        "        self.name = name\n",
        "        self.calories = calories\n",
        "\n",
        "    def __str__(self): #özel method. döneni değiştirmiş oluruz.\n",
        "        return f\"{self.name}: {self.calories} calories\"\n",
        "\n",
        "    def __len__(self): #özel method\n",
        "        return self.calories"
      ]
    },
    {
      "cell_type": "code",
      "execution_count": 58,
      "metadata": {
        "id": "V2E1ixYpP93d"
      },
      "outputs": [],
      "source": [
        "myFruit = Fruit(\"banana\",150)"
      ]
    },
    {
      "cell_type": "code",
      "execution_count": 59,
      "metadata": {
        "id": "iVW9h_vaP93d",
        "outputId": "b84616d7-35de-4577-8e92-270b698fe4af",
        "colab": {
          "base_uri": "https://localhost:8080/"
        }
      },
      "outputs": [
        {
          "output_type": "execute_result",
          "data": {
            "text/plain": [
              "150"
            ]
          },
          "metadata": {},
          "execution_count": 59
        }
      ],
      "source": [
        "myFruit.calories"
      ]
    },
    {
      "cell_type": "code",
      "execution_count": 60,
      "metadata": {
        "id": "XA4eWWSpP93d",
        "outputId": "b50ff380-f93f-4b86-d90c-8710b3250e55",
        "colab": {
          "base_uri": "https://localhost:8080/",
          "height": 36
        }
      },
      "outputs": [
        {
          "output_type": "execute_result",
          "data": {
            "text/plain": [
              "'banana'"
            ],
            "application/vnd.google.colaboratory.intrinsic+json": {
              "type": "string"
            }
          },
          "metadata": {},
          "execution_count": 60
        }
      ],
      "source": [
        "myFruit.name"
      ]
    },
    {
      "cell_type": "code",
      "execution_count": 61,
      "metadata": {
        "id": "DQoFGpkNP93d",
        "outputId": "6eea47a3-3ecd-4eb6-8a74-9beada992d53",
        "colab": {
          "base_uri": "https://localhost:8080/"
        }
      },
      "outputs": [
        {
          "output_type": "stream",
          "name": "stdout",
          "text": [
            "banana: 150 calories\n"
          ]
        }
      ],
      "source": [
        "print(myFruit)"
      ]
    },
    {
      "cell_type": "code",
      "execution_count": 62,
      "metadata": {
        "id": "HPuu2SsQP93d"
      },
      "outputs": [],
      "source": [
        "myList = [10,20,30]"
      ]
    },
    {
      "cell_type": "code",
      "execution_count": 63,
      "metadata": {
        "id": "FACrYiEdP93d",
        "outputId": "83a03180-d342-48a5-f361-55fc997c62a2",
        "colab": {
          "base_uri": "https://localhost:8080/"
        }
      },
      "outputs": [
        {
          "output_type": "execute_result",
          "data": {
            "text/plain": [
              "3"
            ]
          },
          "metadata": {},
          "execution_count": 63
        }
      ],
      "source": [
        "len(myList)"
      ]
    },
    {
      "cell_type": "code",
      "execution_count": 64,
      "metadata": {
        "id": "tUkrqrnhP93d",
        "outputId": "a9928f28-5ebe-446c-9376-caf67a1814a7",
        "colab": {
          "base_uri": "https://localhost:8080/"
        }
      },
      "outputs": [
        {
          "output_type": "execute_result",
          "data": {
            "text/plain": [
              "150"
            ]
          },
          "metadata": {},
          "execution_count": 64
        }
      ],
      "source": [
        "len(myFruit)"
      ]
    },
    {
      "cell_type": "code",
      "execution_count": 67,
      "metadata": {
        "id": "nSk7gnICP93d"
      },
      "outputs": [],
      "source": [
        "class Train():\n",
        "\n",
        "    def __init__(self,name):\n",
        "        self.name = name\n",
        "\n",
        "    def __getitem__(self,key): #özelmethod\n",
        "        if key == \"a\":\n",
        "            return self.name\n",
        "        else:\n",
        "            return \"Not found\""
      ]
    },
    {
      "cell_type": "code",
      "execution_count": 68,
      "metadata": {
        "id": "7HYwemOoP93d"
      },
      "outputs": [],
      "source": [
        "myTrain = Train(\"myTrain\")"
      ]
    },
    {
      "cell_type": "code",
      "execution_count": 69,
      "metadata": {
        "id": "FaZbZsyTP93d",
        "outputId": "605b87dc-7393-44ae-96df-ba867fe1aefe",
        "colab": {
          "base_uri": "https://localhost:8080/",
          "height": 36
        }
      },
      "outputs": [
        {
          "output_type": "execute_result",
          "data": {
            "text/plain": [
              "'myTrain'"
            ],
            "application/vnd.google.colaboratory.intrinsic+json": {
              "type": "string"
            }
          },
          "metadata": {},
          "execution_count": 69
        }
      ],
      "source": [
        "myTrain[\"a\"]"
      ]
    },
    {
      "cell_type": "code",
      "execution_count": 70,
      "metadata": {
        "id": "PyLBJ3aMP93d",
        "outputId": "8f3cfcf8-8396-4d59-ff6b-ad2fdfa830c9",
        "colab": {
          "base_uri": "https://localhost:8080/",
          "height": 36
        }
      },
      "outputs": [
        {
          "output_type": "execute_result",
          "data": {
            "text/plain": [
              "'Not found'"
            ],
            "application/vnd.google.colaboratory.intrinsic+json": {
              "type": "string"
            }
          },
          "metadata": {},
          "execution_count": 70
        }
      ],
      "source": [
        "myTrain[\"b\"]"
      ]
    },
    {
      "cell_type": "code",
      "execution_count": 71,
      "metadata": {
        "id": "WbmO1DndP93d"
      },
      "outputs": [],
      "source": [
        "#myFruit[\"a\"]"
      ]
    }
  ],
  "metadata": {
    "kernelspec": {
      "display_name": "Python 3",
      "language": "python",
      "name": "python3"
    },
    "language_info": {
      "codemirror_mode": {
        "name": "ipython",
        "version": 3
      },
      "file_extension": ".py",
      "mimetype": "text/x-python",
      "name": "python",
      "nbconvert_exporter": "python",
      "pygments_lexer": "ipython3",
      "version": "3.8.5"
    },
    "colab": {
      "provenance": []
    }
  },
  "nbformat": 4,
  "nbformat_minor": 0
}